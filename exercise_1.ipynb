{
 "cells": [
  {
   "cell_type": "code",
   "execution_count": null,
   "id": "8b8fa50c-7b28-4cc6-912c-179a9f15a2c1",
   "metadata": {
    "is_executing": true
   },
   "outputs": [],
   "source": [
    "import spacy\n",
    "\n"
   ]
  },
  {
   "cell_type": "code",
   "execution_count": 2,
   "id": "ae6d93b3-ade4-4677-bb53-57c87b1101f4",
   "metadata": {},
   "outputs": [
    {
     "name": "stdout",
     "output_type": "stream",
     "text": [
      "vin@gmail.com\n",
      "s@gmail.com\n",
      "test@gmail.com\n"
     ]
    }
   ],
   "source": [
    "nlp = spacy.blank('en')\n",
    "text = \"Send an email to vin@gmail.com and s@gmail.com and test@gmail.com\"\n",
    "doc = nlp(text)\n",
    "for ent in doc:\n",
    "    if ent.like_email:\n",
    "        print(ent.text)"
   ]
  },
  {
   "cell_type": "code",
   "execution_count": 3,
   "id": "cd184760-b37b-4ef9-8094-75c367748b6d",
   "metadata": {},
   "outputs": [],
   "source": [
    "#extract the email address\n"
   ]
  },
  {
   "cell_type": "code",
   "execution_count": null,
   "id": "00656b47-7ccd-411e-bb1c-be74c3c06038",
   "metadata": {},
   "outputs": [],
   "source": []
  }
 ],
 "metadata": {
  "kernelspec": {
   "display_name": "Python 3 (ipykernel)",
   "language": "python",
   "name": "python3"
  },
  "language_info": {
   "codemirror_mode": {
    "name": "ipython",
    "version": 3
   },
   "file_extension": ".py",
   "mimetype": "text/x-python",
   "name": "python",
   "nbconvert_exporter": "python",
   "pygments_lexer": "ipython3",
   "version": "3.11.5"
  }
 },
 "nbformat": 4,
 "nbformat_minor": 5
}
